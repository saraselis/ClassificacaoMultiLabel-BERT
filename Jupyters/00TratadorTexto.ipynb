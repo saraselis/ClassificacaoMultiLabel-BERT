{
 "cells": [
  {
   "cell_type": "markdown",
   "metadata": {},
   "source": [
    "# <b style='color:blue;'> Tratamento de Textos</b>\n",
    "* Este Jupyter tem como realizar o tratamento do texto referêntes as perguntas retiradas do Stackoverflow."
   ]
  },
  {
   "cell_type": "markdown",
   "metadata": {},
   "source": [
    "---"
   ]
  },
  {
   "cell_type": "markdown",
   "metadata": {},
   "source": [
    "Bibliotecas/Módulos"
   ]
  },
  {
   "cell_type": "markdown",
   "metadata": {},
   "source": [
    "<details>    \n",
    "<summary>\n",
    "    <font size=\"3\" color=\"blue\"><b>Install</b></font>\n",
    "</summary>\n",
    "<p>\n",
    "<ul>\n",
    "    <li> !pip install pyfields </li>\n",
    "    <li> !pip install nltk </li>\n",
    "</ul>\n",
    "</p>"
   ]
  },
  {
   "cell_type": "code",
   "execution_count": 2,
   "metadata": {},
   "outputs": [],
   "source": [
    "import nltk\n",
    "import re\n",
    "from pyfields import field"
   ]
  },
  {
   "cell_type": "code",
   "execution_count": 2,
   "metadata": {},
   "outputs": [
    {
     "name": "stdout",
     "output_type": "stream",
     "text": [
      "CPU times: user 137 ms, sys: 4.01 ms, total: 141 ms\n",
      "Wall time: 141 ms\n"
     ]
    }
   ],
   "source": [
    "%%time\n",
    "%%capture\n",
    "%run 00Confgs.ipynb"
   ]
  },
  {
   "cell_type": "markdown",
   "metadata": {},
   "source": [
    "Strings para regex"
   ]
  },
  {
   "cell_type": "code",
   "execution_count": 3,
   "metadata": {},
   "outputs": [],
   "source": [
    "remove_accent_ = {'a': r'[\\xE0-\\xE6]', 'e': r'[\\xE8-\\xEB]', 'i': r'[\\xEC-\\xEF]', 'o': r'[\\xF2-\\xF6]',\n",
    "                  'u': r'[\\xF9-\\xFC]', 'c': r'[\\xE7]', 'y': r'[\\xFD|\\xFF]'}\n",
    "\n",
    "remove_stop_ = set(nltk.corpus.stopwords.words('portuguese'))\n",
    "\n",
    "string_pont_ = '[!\"#$%&\\'()*+-/:;<=>?@[\\\\]^_`{|}~—\"\\'“”ª«»£@#$%¢¬&*§º]'"
   ]
  },
  {
   "cell_type": "markdown",
   "metadata": {},
   "source": [
    "Classe que realiza o tratamento do texto"
   ]
  },
  {
   "cell_type": "code",
   "execution_count": 4,
   "metadata": {},
   "outputs": [],
   "source": [
    "class TrataTexto:\n",
    "    '''\n",
    "        Classe destinada ao tratamento do texto enviado para realização da predição.\n",
    "\n",
    "        Atributos da classe:\n",
    "            \\t* remove_accent_str - Regex para remoção de acentos\n",
    "            \\t* string_pont - Regex para remoção de pontuação\n",
    "            \\t* remove_stop -  Stopwords NLTK\n",
    "    '''\n",
    "\n",
    "    remove_accent_str: str = field(doc=\"String regex para remoção de acentos.\", default=remove_accent_, check_type=True, type_hint=dict)\n",
    "    string_pont: str = field(doc=\"String regex para remoção de pontos.\", default=string_pont_, check_type=True, type_hint=str)\n",
    "    remove_stop: list = field(doc=\"Nltk Stopwords.\", default=remove_stop_, type_hint=dict)\n",
    "    count: int = field(doc=\"Contador para textos\", default=1, type_hint=int)\n",
    "\n",
    "    def remove_accent(self, text: str) -> str:\n",
    "        \"\"\"Remove os acentos das palavras do texto.\n",
    "\n",
    "        :param text: texto\n",
    "        :type text: str\n",
    "        :return: texto sem acentos\n",
    "        :rtype: str\n",
    "        \"\"\"\n",
    "\n",
    "        for letter, regex in self.remove_accent_str.items():\n",
    "            text = re.sub(regex, letter, text)\n",
    "\n",
    "        return text\n",
    "\n",
    "    def remove_pont(self, texto: str) -> str:\n",
    "        \"\"\"Remove pontuação.\n",
    "\n",
    "        :param texto: texto\n",
    "        :type texto: str\n",
    "        :return: texto sem pontuação\n",
    "        :rtype: str\n",
    "        \"\"\"\n",
    "\n",
    "        text = re.sub(self.string_pont, ' ', texto)\n",
    "\n",
    "        return text\n",
    "\n",
    "    def remove_stopwords(self, text: str, custom_stopwords: str = None) -> str:\n",
    "        \"\"\"Remove as stopwords do texto.\n",
    "\n",
    "        :param text: texto\n",
    "        :type text: str\n",
    "        :param custom_stopwords: stopwords customizadas, defaults to None\n",
    "        :type custom_stopwords: str, optional\n",
    "        :return: str\n",
    "        :rtype: texto sem stopwords\n",
    "        \"\"\"\n",
    "\n",
    "        if custom_stopwords:\n",
    "            stopwords = custom_stopwords\n",
    "        else:\n",
    "            stopwords = self.remove_stop\n",
    "\n",
    "        text_tokenized = nltk.tokenize.word_tokenize(text)\n",
    "\n",
    "        for index, word in enumerate(text_tokenized):\n",
    "            if word in stopwords:\n",
    "                text_tokenized[index] = ' '\n",
    "        text = ' '.join(text_tokenized)\n",
    "\n",
    "        return text\n",
    "\n",
    "    @staticmethod\n",
    "    def lower_case(text: str) -> str:\n",
    "        \"\"\"Deixa todas as letras em minúsculo.\n",
    "\n",
    "        :param text: texto\n",
    "        :type text: str\n",
    "        :return: texto em minúsculas\n",
    "        :rtype: str\n",
    "        \"\"\"\n",
    "\n",
    "        text = text.lower()\n",
    "\n",
    "        return text\n",
    "\n",
    "    @staticmethod\n",
    "    def remove_lines(text: str) -> str:\n",
    "        \"\"\"Remove linhas duplicadas.\n",
    "\n",
    "        :param text: texto\n",
    "        :type text: str\n",
    "        :return: texto sem linhas duplicadas\n",
    "        :rtype: str\n",
    "        \"\"\"\n",
    "\n",
    "        text = re.sub(r'\\\\n', ' ', text)\n",
    "        text = re.sub(r'\\n', ' ', text)\n",
    "\n",
    "        return text\n",
    "\n",
    "    @staticmethod\n",
    "    def remove_spaces(text: str) -> str:\n",
    "        \"\"\"Remove espaços duplicados.\n",
    "\n",
    "        :param text: texto\n",
    "        :type text: str\n",
    "        :return: texto sem espaços duplicados.\n",
    "        :rtype: str\n",
    "        \"\"\"\n",
    "\n",
    "        text = ' '.join(text.split())\n",
    "        return text\n",
    "        \n",
    "    @staticmethod\n",
    "    def remove_emoji(text):\n",
    "        \"\"\"Remove os emojis no texto.\n",
    "\n",
    "        :param text: texto\n",
    "        :type text: str\n",
    "        :return: texto sem espaços duplicados.\n",
    "        :rtype: str\n",
    "        \"\"\"\n",
    "        \n",
    "        regrex_pattern = re.compile(pattern = \"[\"\n",
    "        u\"\\U0001F600-\\U0001F64F\"\n",
    "        u\"\\U0001F300-\\U0001F5FF\"\n",
    "        u\"\\U0001F680-\\U0001F6FF\"\n",
    "        u\"\\U0001F1E0-\\U0001F1FF\"\n",
    "                           \"]+\", flags = re.UNICODE)\n",
    "        return regrex_pattern.sub(r'',text)\n",
    "    \n",
    "    @staticmethod\n",
    "    def remove_links(text):\n",
    "        \"\"\"Remove os links do texto.\n",
    "\n",
    "        :param text: texto\n",
    "        :type text: str\n",
    "        :return: texto sem espaços duplicados.\n",
    "        :rtype: str\n",
    "        \"\"\"\n",
    "        text = re.sub(r\"http\\S+\", \"\", text)\n",
    "        \n",
    "        return text\n",
    "    \n",
    "    def fix_text(self, text):\n",
    "        \"\"\"Chama os outros métodos na ordem para o tratamento do texto.\n",
    "\n",
    "        :param text: texto\n",
    "        :type text: str\n",
    "        :return: texto sem espaços duplicados.\n",
    "        :rtype: str\n",
    "        \"\"\"\n",
    "        \n",
    "        logger.info(f\"Iniciando tratamento do texto número: {self.count}\")\n",
    "        tratador = TrataTexto()\n",
    "        text = tratador.remove_links(text)\n",
    "        text = tratador.remove_pont(text)\n",
    "        text = tratador.remove_accent(text)\n",
    "        text = tratador.lower_case(text)\n",
    "        text = tratador.remove_lines(text)\n",
    "        text = tratador.remove_stopwords(text)\n",
    "        text = tratador.remove_spaces(text)\n",
    "        text = tratador.remove_emoji(text)\n",
    "        \n",
    "        self.count+=1\n",
    "        return text"
   ]
  },
  {
   "cell_type": "code",
   "execution_count": null,
   "metadata": {},
   "outputs": [],
   "source": []
  }
 ],
 "metadata": {
  "kernelspec": {
   "display_name": "Python 3",
   "language": "python",
   "name": "python3"
  },
  "language_info": {
   "codemirror_mode": {
    "name": "ipython",
    "version": 3
   },
   "file_extension": ".py",
   "mimetype": "text/x-python",
   "name": "python",
   "nbconvert_exporter": "python",
   "pygments_lexer": "ipython3",
   "version": "3.7.6"
  }
 },
 "nbformat": 4,
 "nbformat_minor": 4
}
